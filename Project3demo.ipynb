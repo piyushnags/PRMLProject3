{
  "nbformat": 4,
  "nbformat_minor": 0,
  "metadata": {
    "colab": {
      "provenance": [],
      "mount_file_id": "1bOq4RsWSyCTlZxMnWphLTBAy0mCgLK3X",
      "authorship_tag": "ABX9TyP0R0oXyuP+EaYjqfm5IkcX",
      "include_colab_link": true
    },
    "kernelspec": {
      "name": "python3",
      "display_name": "Python 3"
    },
    "language_info": {
      "name": "python"
    },
    "gpuClass": "standard",
    "accelerator": "GPU"
  },
  "cells": [
    {
      "cell_type": "markdown",
      "metadata": {
        "id": "view-in-github",
        "colab_type": "text"
      },
      "source": [
        "<a href=\"https://colab.research.google.com/github/piyushnags/PRMLProject3/blob/master/Project3demo.ipynb\" target=\"_parent\"><img src=\"https://colab.research.google.com/assets/colab-badge.svg\" alt=\"Open In Colab\"/></a>"
      ]
    },
    {
      "cell_type": "markdown",
      "source": [
        "# Introduction (Please Read this)"
      ],
      "metadata": {
        "id": "8CAsYMakNLYJ"
      }
    },
    {
      "cell_type": "markdown",
      "source": [
        "This is a demo for the Deep Learning Project from CSE: 583. The scripts rely on the code publicly available on https://github.com/piyushnags/PRMLProject3\n",
        "The results of evaluating the models are shown below. It is recommended to enable a GPU Runtime. You must also replace data_dir with the link to where the data is stored in your google drive or directly upload it to the session. \n",
        "\n",
        "Please store the \"data\" folder within the project repo root directory. If you store the data in a different directory, you must update the following cells by providing the data directory path using the --data_dir.\n",
        "\n",
        "**Note:** The easiest way to set this up is to link Colab with google drive and update the data_dir with the path to the zip file provided for the project."
      ],
      "metadata": {
        "id": "v0UQ8-ZxNPKl"
      }
    },
    {
      "cell_type": "markdown",
      "source": [
        "# Set up Environment"
      ],
      "metadata": {
        "id": "M-OqsawFEpSg"
      }
    },
    {
      "cell_type": "markdown",
      "source": [
        "Clone the repository and change working dir"
      ],
      "metadata": {
        "id": "t7UriFhLFWYs"
      }
    },
    {
      "cell_type": "code",
      "source": [
        "!git clone https://github.com/piyushnags/PRMLProject3.git\n",
        "%cd PRMLProject3"
      ],
      "metadata": {
        "colab": {
          "base_uri": "https://localhost:8080/"
        },
        "id": "iuR7SsYlEzAS",
        "outputId": "4f9c54c4-255f-4edc-fa29-b02dc8a75399"
      },
      "execution_count": 1,
      "outputs": [
        {
          "output_type": "stream",
          "name": "stdout",
          "text": [
            "Cloning into 'PRMLProject3'...\n",
            "remote: Enumerating objects: 266, done.\u001b[K\n",
            "remote: Counting objects: 100% (91/91), done.\u001b[K\n",
            "remote: Compressing objects: 100% (62/62), done.\u001b[K\n",
            "remote: Total 266 (delta 57), reused 60 (delta 28), pack-reused 175\u001b[K\n",
            "Receiving objects: 100% (266/266), 15.26 MiB | 15.06 MiB/s, done.\n",
            "Resolving deltas: 100% (173/173), done.\n",
            "/content/PRMLProject3\n"
          ]
        }
      ]
    },
    {
      "cell_type": "markdown",
      "source": [
        "Pull any changes if required:"
      ],
      "metadata": {
        "id": "YQUSiCWxE1CX"
      }
    },
    {
      "cell_type": "code",
      "source": [
        "!git pull"
      ],
      "metadata": {
        "colab": {
          "base_uri": "https://localhost:8080/"
        },
        "id": "CadEeMBhEz81",
        "outputId": "3666b4ee-b8e2-458d-8220-9d11569d109a"
      },
      "execution_count": 2,
      "outputs": [
        {
          "output_type": "stream",
          "name": "stdout",
          "text": [
            "Already up to date.\n"
          ]
        }
      ]
    },
    {
      "cell_type": "markdown",
      "source": [
        "Link drive before running the following cell"
      ],
      "metadata": {
        "id": "piKJujmXRo6C"
      }
    },
    {
      "cell_type": "code",
      "source": [
        "import zipfile\n",
        "data_dir = \"/content/drive/MyDrive/PRMLProject3/data.zip\"\n",
        "ref = zipfile.ZipFile(data_dir, 'r')\n",
        "ref.extractall('/content/PRMLProject3/')\n",
        "ref.close()"
      ],
      "metadata": {
        "id": "wkfb6QolPCPA"
      },
      "execution_count": 3,
      "outputs": []
    },
    {
      "cell_type": "markdown",
      "source": [
        "# Model Validation"
      ],
      "metadata": {
        "id": "QdErThbaFgH5"
      }
    },
    {
      "cell_type": "markdown",
      "source": [
        "The following cell downloads the weights using gdown from my publicly accessible link. However, gdown can fail if the bandwidth limit is reached and it may no longer be accessible through gdown. In that case, please download the file and manually upload it to your session using the following link: https://drive.google.com/file/d/1x1dnL9IrW2E_-PBDitAKltSipJgPaitD/view?usp=share_link\n",
        "\n",
        "If you manually download the zip file, store the zip file within the root dir of the repo. (You would have to manually do what the following cell automates)"
      ],
      "metadata": {
        "id": "C1-Qd4klMiHv"
      }
    },
    {
      "cell_type": "code",
      "source": [
        "%%shell\n",
        "gdown --id 1x1dnL9IrW2E_-PBDitAKltSipJgPaitD\n",
        "unzip weights.zip"
      ],
      "metadata": {
        "colab": {
          "base_uri": "https://localhost:8080/"
        },
        "id": "A7vopxqgHdqZ",
        "outputId": "44e112a1-ab44-4c89-9c42-f5edbd10c515"
      },
      "execution_count": 4,
      "outputs": [
        {
          "output_type": "stream",
          "name": "stdout",
          "text": [
            "/usr/local/lib/python3.9/dist-packages/gdown/cli.py:121: FutureWarning: Option `--id` was deprecated in version 4.3.1 and will be removed in 5.0. You don't need to pass it anymore to use a file ID.\n",
            "  warnings.warn(\n",
            "Downloading...\n",
            "From: https://drive.google.com/uc?id=1x1dnL9IrW2E_-PBDitAKltSipJgPaitD\n",
            "To: /content/PRMLProject3/weights.zip\n",
            "100% 349M/349M [00:05<00:00, 68.5MB/s]\n",
            "Archive:  weights.zip\n",
            "  inflating: weights/mobilenet.ckpt  \n",
            "  inflating: weights/densenet.ckpt   \n",
            "  inflating: weights/resnet.ckpt     \n"
          ]
        },
        {
          "output_type": "execute_result",
          "data": {
            "text/plain": []
          },
          "metadata": {},
          "execution_count": 4
        }
      ]
    },
    {
      "cell_type": "markdown",
      "source": [
        "Let us evaluate the performance of the Resnet model on the challenge dataset. Please adjust the batch size if your runtime fails due to an \"out of memory\" \n",
        "error."
      ],
      "metadata": {
        "id": "9UGwSAtONBcv"
      }
    },
    {
      "cell_type": "code",
      "source": [
        "!python classification.py --eval_ckpt --test_model --model_type Resnet --model_path weights/resnet.ckpt --device cuda --test_set test_challenge --save_dir Resnet_eval --batch_size=256"
      ],
      "metadata": {
        "colab": {
          "base_uri": "https://localhost:8080/"
        },
        "id": "pBKbMR4eFes1",
        "outputId": "71c34794-68fc-41a4-9efe-8dc64576110f"
      },
      "execution_count": 5,
      "outputs": [
        {
          "output_type": "stream",
          "name": "stdout",
          "text": [
            "Test accuracy: 62.147\n"
          ]
        }
      ]
    },
    {
      "cell_type": "markdown",
      "source": [
        "Let us now evaluate the performance of the Densenet model"
      ],
      "metadata": {
        "id": "m6rx_C_gNzZp"
      }
    },
    {
      "cell_type": "code",
      "source": [
        "!python classification.py --test_model --eval_ckpt --model_type Densenet --model_path weights/densenet.ckpt --device cuda --test_set test_challenge --save_dir Densenet_eval --batch_size=256"
      ],
      "metadata": {
        "colab": {
          "base_uri": "https://localhost:8080/"
        },
        "id": "AN2OyInjN3Tc",
        "outputId": "e624fc6d-cdb6-434d-bf2e-84f04e7be483"
      },
      "execution_count": 6,
      "outputs": [
        {
          "output_type": "stream",
          "name": "stdout",
          "text": [
            "Test accuracy: 32.912\n"
          ]
        }
      ]
    },
    {
      "cell_type": "markdown",
      "source": [
        "Let us now evaluate the performance of the Mobilenet model"
      ],
      "metadata": {
        "id": "vJHlRpc5OZh9"
      }
    },
    {
      "cell_type": "code",
      "source": [
        "!python classification.py --test_model --eval_ckpt --model_type Mobilenet --model_path weights/mobilenet.ckpt --device cuda --test_set test_challenge --save_dir Mobilenet_eval --batch_size=256"
      ],
      "metadata": {
        "colab": {
          "base_uri": "https://localhost:8080/"
        },
        "id": "e8WbpKGfOez7",
        "outputId": "233cdae3-bece-441f-9224-2e6c2d8adc72"
      },
      "execution_count": 7,
      "outputs": [
        {
          "output_type": "stream",
          "name": "stdout",
          "text": [
            "Test accuracy: 42.588\n"
          ]
        }
      ]
    }
  ]
}